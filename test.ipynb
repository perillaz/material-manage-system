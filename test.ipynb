{
 "cells": [
  {
   "cell_type": "code",
   "execution_count": 22,
   "metadata": {},
   "outputs": [],
   "source": [
    "from random import randint\n",
    "from random import sample\n",
    "import string\n",
    "file = open(\"dtest2.txt\",\"w\")\n",
    "for i in range(1000000):\n",
    "    title = \"D\" + ''.join(sample(string.ascii_letters + string.digits, 8))\n",
    "    user = str(randint(0,40))\n",
    "    author = \"author\" + str(randint(0,30))\n",
    "    data = \"2020-12-\"+str(randint(0,2)) + str(randint(1,9))\n",
    "    filepath =  \"F\" + ''.join(sample(string.ascii_letters + string.digits, 10))\n",
    "    doi = \"1234.5678\"\n",
    "    c = \"C\" + ''.join(sample(string.ascii_letters + string.digits, 5))\n",
    "    s = ','.join([title,author,user,\"user\"+user,data,filepath,doi,c]) + \"\\n\"\n",
    "    file.write(s)\n",
    "file.close()\n"
   ]
  }
 ],
 "metadata": {
  "kernelspec": {
   "display_name": "Python 3.10.6 64-bit",
   "language": "python",
   "name": "python3"
  },
  "language_info": {
   "codemirror_mode": {
    "name": "ipython",
    "version": 3
   },
   "file_extension": ".py",
   "mimetype": "text/x-python",
   "name": "python",
   "nbconvert_exporter": "python",
   "pygments_lexer": "ipython3",
   "version": "3.10.6"
  },
  "orig_nbformat": 4,
  "vscode": {
   "interpreter": {
    "hash": "e7370f93d1d0cde622a1f8e1c04877d8463912d04d973331ad4851f04de6915a"
   }
  }
 },
 "nbformat": 4,
 "nbformat_minor": 2
}
